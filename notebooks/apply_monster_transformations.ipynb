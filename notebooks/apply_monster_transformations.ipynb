{
 "cells": [
  {
   "cell_type": "markdown",
   "id": "b2483e74-7e92-498d-82c7-35080678bd9a",
   "metadata": {},
   "source": [
    "## Example of retrieving and applying the colorterm spline values from \"The Monster\""
   ]
  },
  {
   "cell_type": "code",
   "execution_count": 1,
   "id": "de0a3cc1-5d96-406a-9f65-0b459c5c5ccd",
   "metadata": {
    "execution": {
     "iopub.execute_input": "2025-03-25T21:03:16.502400Z",
     "iopub.status.busy": "2025-03-25T21:03:16.502278Z",
     "iopub.status.idle": "2025-03-25T21:03:16.737476Z",
     "shell.execute_reply": "2025-03-25T21:03:16.737030Z",
     "shell.execute_reply.started": "2025-03-25T21:03:16.502387Z"
    }
   },
   "outputs": [],
   "source": [
    "import numpy as np\n",
    "import astropy.units as u\n",
    "import requests\n",
    "import yaml\n",
    "\n",
    "from scipy.interpolate import make_interp_spline"
   ]
  },
  {
   "cell_type": "code",
   "execution_count": 2,
   "id": "218b08c7-9886-44fa-9ac9-5790eed3cef6",
   "metadata": {
    "execution": {
     "iopub.execute_input": "2025-03-25T21:03:16.738439Z",
     "iopub.status.busy": "2025-03-25T21:03:16.738147Z",
     "iopub.status.idle": "2025-03-25T21:03:16.741579Z",
     "shell.execute_reply": "2025-03-25T21:03:16.741208Z",
     "shell.execute_reply.started": "2025-03-25T21:03:16.738420Z"
    }
   },
   "outputs": [],
   "source": [
    "def get_colorterm_spline(colorterm_file_string, band):\n",
    "    \"\"\"\n",
    "    Get the colorterm spline for a specific band.\n",
    "\n",
    "    This function retrieves the colorterm spline from a specified file.\n",
    "\n",
    "    Parameters\n",
    "    ----------\n",
    "    colorterm_file_string : `str`\n",
    "        The base string of the colorterm file name.\n",
    "    band : `str`\n",
    "        The band for which to get the colorterm spline\n",
    "        (e.g., 'g', 'r', 'i').\n",
    "\n",
    "    Returns\n",
    "    -------\n",
    "    colorterm_spline : `dict`\n",
    "        Dict containing the colorterm spline nodes and values, plus\n",
    "        additional info.\n",
    "    \"\"\"\n",
    "    colorterm_path = \"https://raw.githubusercontent.com/lsst-dm/the_monster/refs/heads/main/colorterms\"\n",
    "\n",
    "    colorterm_url = os.path.join(\n",
    "                colorterm_path,\n",
    "                colorterm_file_string+f'_{band}.yaml',\n",
    "            )\n",
    "\n",
    "    print(f\"Fetching {colorterm_url}\")\n",
    "    # Retrieve the file content from the URL\n",
    "    response = requests.get(colorterm_url, allow_redirects=True)\n",
    "    # Convert bytes to string\n",
    "    content = response.content.decode(\"utf-8\")\n",
    "    assert content != '404: Not Found', f\"File {colorterm_url} not found.\"\n",
    "\n",
    "    # Load the yaml\n",
    "    colorterms_dict = yaml.safe_load(content)\n",
    "\n",
    "    return colorterms_dict"
   ]
  },
  {
   "cell_type": "code",
   "execution_count": 3,
   "id": "0ff8f30a-ca01-40cb-bae3-0d3bf814526a",
   "metadata": {
    "execution": {
     "iopub.execute_input": "2025-03-25T21:03:16.742190Z",
     "iopub.status.busy": "2025-03-25T21:03:16.742059Z",
     "iopub.status.idle": "2025-03-25T21:03:16.749073Z",
     "shell.execute_reply": "2025-03-25T21:03:16.748696Z",
     "shell.execute_reply.started": "2025-03-25T21:03:16.742178Z"
    }
   },
   "outputs": [],
   "source": [
    "def ab_mag_to_njy(mags):\n",
    "    \"\"\"Convert AB magnitudes to flux in nanoJansky\n",
    "    Parameters\n",
    "    ----------\n",
    "    mags : `np.ndarray`\n",
    "        Array of mags to convert\n",
    "    Returns\n",
    "    -------\n",
    "    fluxes : `np.ndarray`\n",
    "        Array of fluxes in nJy\n",
    "    \"\"\"\n",
    "    return (mags * u.ABmag).to(u.nJy).value"
   ]
  },
  {
   "cell_type": "code",
   "execution_count": 4,
   "id": "04844946-c18b-479a-9c12-0f7fec120a74",
   "metadata": {
    "execution": {
     "iopub.execute_input": "2025-03-25T21:03:16.749626Z",
     "iopub.status.busy": "2025-03-25T21:03:16.749461Z",
     "iopub.status.idle": "2025-03-25T21:03:16.756264Z",
     "shell.execute_reply": "2025-03-25T21:03:16.755905Z",
     "shell.execute_reply.started": "2025-03-25T21:03:16.749614Z"
    }
   },
   "outputs": [],
   "source": [
    "def apply_colorterms(source_color_flux_1, source_color_flux_2, source_flux, colorterms_dict):\n",
    "    \"\"\"Apply the color term spline model.\n",
    "    Parameters\n",
    "    ----------\n",
    "    source_color_flux_1 : `np.ndarray` (N,)\n",
    "        Array of source fluxes used for color (1).\n",
    "    source_color_flux_2 : `np.ndarray` (N,)\n",
    "        Array of source fluxes used for color (2).\n",
    "    source_flux : `np.ndarray` (N,)\n",
    "        Array of source fluxes to convert.\n",
    "    colorterms_dict : `dict`\n",
    "        Dict containing colorterm spline nodes and values\n",
    "    Returns\n",
    "    -------\n",
    "    model_flux : `np.ndarray` (N,)\n",
    "        Array of fluxes converted to target system.\n",
    "    \"\"\"\n",
    "    mag_1 = (np.array(source_color_flux_1)*u.nJy).to_value(u.ABmag)\n",
    "    mag_2 = (np.array(source_color_flux_2)*u.nJy).to_value(u.ABmag)\n",
    "    mag_color = mag_1 - mag_2\n",
    "    spl = make_interp_spline(colorterms_dict['nodes'], colorterms_dict['spline_values'])\n",
    "    model_flux = np.array(source_flux) * np.array(spl(mag_color))\n",
    "    model_flux -= colorterms_dict['flux_offset']\n",
    "\n",
    "    # Check that things are in range: colors out of range simply should\n",
    "    # not be corrected.\n",
    "    bad = ((mag_color < colorterms_dict['nodes'][0]) |\\\n",
    "           (mag_color > colorterms_dict['nodes'][-1]) |\\\n",
    "           (~np.isfinite(mag_color)))\n",
    "    model_flux[bad] = np.nan\n",
    "\n",
    "    return model_flux"
   ]
  },
  {
   "cell_type": "markdown",
   "id": "73b1fea3-ec3a-428a-a7fa-7da6e02c33b2",
   "metadata": {},
   "source": [
    "### Get the dict of colorterm spline values:\n",
    "\n",
    "The format of \"colorterm_file_string\" is \"Monster_to_{system}_band\", where \"system\" is the system you want to transform to."
   ]
  },
  {
   "cell_type": "code",
   "execution_count": 5,
   "id": "5c796bf9-0050-42f6-bd63-2838476f967f",
   "metadata": {
    "execution": {
     "iopub.execute_input": "2025-03-25T21:03:16.756808Z",
     "iopub.status.busy": "2025-03-25T21:03:16.756680Z",
     "iopub.status.idle": "2025-03-25T21:03:17.043867Z",
     "shell.execute_reply": "2025-03-25T21:03:17.043478Z",
     "shell.execute_reply.started": "2025-03-25T21:03:16.756796Z"
    }
   },
   "outputs": [
    {
     "name": "stdout",
     "output_type": "stream",
     "text": [
      "Fetching https://raw.githubusercontent.com/lsst-dm/the_monster/refs/heads/main/colorterms/Monster_to_ComCam_band_u.yaml\n"
     ]
    }
   ],
   "source": [
    "colorterm_file_string = \"Monster_to_ComCam_band\"\n",
    "band = \"u\"\n",
    "\n",
    "colorterms_dict = get_colorterm_spline(colorterm_file_string, band)"
   ]
  },
  {
   "cell_type": "code",
   "execution_count": 6,
   "id": "d5cd0972-7a83-4d5d-b39a-6c390da959da",
   "metadata": {
    "execution": {
     "iopub.execute_input": "2025-03-25T21:03:17.044450Z",
     "iopub.status.busy": "2025-03-25T21:03:17.044318Z",
     "iopub.status.idle": "2025-03-25T21:03:17.047428Z",
     "shell.execute_reply": "2025-03-25T21:03:17.047041Z",
     "shell.execute_reply.started": "2025-03-25T21:03:17.044437Z"
    }
   },
   "outputs": [
    {
     "data": {
      "text/plain": [
       "{'flux_offset': 0.0,\n",
       " 'nodes': [0.35, 0.4375, 0.5249999999999999, 0.6124999999999999, 0.7],\n",
       " 'source_color_field_1': 'monster_DES_g_flux',\n",
       " 'source_color_field_2': 'monster_DES_r_flux',\n",
       " 'source_field': 'monster_SDSS_u_flux',\n",
       " 'source_survey': 'Monster',\n",
       " 'spline_values': [1.1744485105957316,\n",
       "  1.138572963077543,\n",
       "  1.1166661995392342,\n",
       "  1.128442879245455,\n",
       "  1.144844329061915],\n",
       " 'target_survey': 'ComCam'}"
      ]
     },
     "execution_count": 6,
     "metadata": {},
     "output_type": "execute_result"
    }
   ],
   "source": [
    "colorterms_dict"
   ]
  },
  {
   "cell_type": "markdown",
   "id": "6f8dad1d-dd09-4c9f-8f9e-9e2de31d79e4",
   "metadata": {},
   "source": [
    "### Create some dummy mags and test the `apply_colorterms` function:"
   ]
  },
  {
   "cell_type": "code",
   "execution_count": 7,
   "id": "f884930a-a367-4918-a622-9f1e6cd063c6",
   "metadata": {
    "execution": {
     "iopub.execute_input": "2025-03-25T21:03:17.047979Z",
     "iopub.status.busy": "2025-03-25T21:03:17.047849Z",
     "iopub.status.idle": "2025-03-25T21:03:17.054447Z",
     "shell.execute_reply": "2025-03-25T21:03:17.054104Z",
     "shell.execute_reply.started": "2025-03-25T21:03:17.047967Z"
    }
   },
   "outputs": [],
   "source": [
    "mag1 = np.asarray([21, 21]) # g\n",
    "mag2 = np.asarray([20.3,20.6]) # r\n",
    "mag_source = np.asarray([20, 25])\n",
    "flux1 = ab_mag_to_njy(mag1)\n",
    "flux2 = ab_mag_to_njy(mag2)\n",
    "flux_source = ab_mag_to_njy(mag_source)"
   ]
  },
  {
   "cell_type": "code",
   "execution_count": 8,
   "id": "d6a29013-6e4b-4f39-9395-f23f9b8c82da",
   "metadata": {
    "execution": {
     "iopub.execute_input": "2025-03-25T21:03:17.055057Z",
     "iopub.status.busy": "2025-03-25T21:03:17.054924Z",
     "iopub.status.idle": "2025-03-25T21:03:17.062396Z",
     "shell.execute_reply": "2025-03-25T21:03:17.062041Z",
     "shell.execute_reply.started": "2025-03-25T21:03:17.055045Z"
    }
   },
   "outputs": [
    {
     "name": "stdout",
     "output_type": "stream",
     "text": [
      "Input fluxes:  [36307.80547701   363.07805477]\n",
      "Transformed fluxes:  [41566.78520104   419.02775079]\n"
     ]
    }
   ],
   "source": [
    "print('Input fluxes: ', flux_source)\n",
    "print('Transformed fluxes: ', apply_colorterms(flux1, flux2, flux_source, colorterms_dict))"
   ]
  },
  {
   "cell_type": "code",
   "execution_count": null,
   "id": "a069bf17-93ec-42f9-9996-3a57732f2e79",
   "metadata": {},
   "outputs": [],
   "source": []
  },
  {
   "cell_type": "code",
   "execution_count": null,
   "id": "3b4def27-2a16-44fa-bcaf-50eb47a4941e",
   "metadata": {},
   "outputs": [],
   "source": []
  }
 ],
 "metadata": {
  "kernelspec": {
   "display_name": "LSST",
   "language": "python",
   "name": "lsst"
  },
  "language_info": {
   "codemirror_mode": {
    "name": "ipython",
    "version": 3
   },
   "file_extension": ".py",
   "mimetype": "text/x-python",
   "name": "python",
   "nbconvert_exporter": "python",
   "pygments_lexer": "ipython3",
   "version": "3.12.9"
  }
 },
 "nbformat": 4,
 "nbformat_minor": 5
}
